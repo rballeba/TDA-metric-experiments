{
 "cells": [
  {
   "cell_type": "code",
   "execution_count": 1,
   "id": "coupled-genre",
   "metadata": {},
   "outputs": [],
   "source": [
    "import numpy as np"
   ]
  },
  {
   "cell_type": "code",
   "execution_count": null,
   "id": "accessible-circle",
   "metadata": {},
   "outputs": [],
   "source": [
    "def absolute_correlation_metric(x, y):\n",
    "    pass\n",
    "def correlation_metric(x,y):\n",
    "    pass"
   ]
  },
  {
   "cell_type": "code",
   "execution_count": 4,
   "id": "charitable-baghdad",
   "metadata": {},
   "outputs": [],
   "source": [
    "def generate_random_points(number_of_points, dimension, amplifier=10):\n",
    "    return amplifier*np.random.rand(number_of_points, dimension)"
   ]
  }
 ],
 "metadata": {
  "kernelspec": {
   "display_name": "Python 3",
   "language": "python",
   "name": "python3"
  },
  "language_info": {
   "codemirror_mode": {
    "name": "ipython",
    "version": 3
   },
   "file_extension": ".py",
   "mimetype": "text/x-python",
   "name": "python",
   "nbconvert_exporter": "python",
   "pygments_lexer": "ipython3",
   "version": "3.8.6rc1"
  }
 },
 "nbformat": 4,
 "nbformat_minor": 5
}
